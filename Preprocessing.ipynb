{
 "cells": [
  {
   "cell_type": "code",
   "execution_count": 1,
   "id": "8adea529",
   "metadata": {},
   "outputs": [],
   "source": [
    "import torch\n",
    "import torchvision\n",
    "import torch.nn as nn\n",
    "import torch.nn.functional as F\n",
    "from torchvision import transforms\n",
    "import matplotlib.pyplot as plt\n",
    "import numpy as np\n",
    "from collections import defaultdict\n",
    "import os\n",
    "import cv2\n",
    "import copy\n",
    "from PIL import Image, ImageDraw\n",
    "import xml.etree.ElementTree as ET\n",
    "%matplotlib inline\n",
    "import warnings\n",
    "warnings.filterwarnings('ignore')"
   ]
  },
  {
   "cell_type": "code",
   "execution_count": 2,
   "id": "060fb15b",
   "metadata": {},
   "outputs": [],
   "source": [
    "path = 'yolov7/helmet_dataset/annotations/'\n",
    "#os.listdir(path)"
   ]
  },
  {
   "cell_type": "code",
   "execution_count": 15,
   "id": "2bd3fef3",
   "metadata": {},
   "outputs": [],
   "source": [
    "for f in os.listdir(path):\n",
    "    tree = ET.parse(path+f'{f}')\n",
    "    root = tree.getroot()\n",
    "    \n",
    "    for item in root.findall('./size/width'):\n",
    "        w = int(item.text.encode('utf8'))\n",
    "    for item in root.findall('./size/height'):\n",
    "        h = int(item.text.encode('utf8'))\n",
    "    \n",
    "    classes = []\n",
    "    for item in root.findall('./object/name'):\n",
    "        if item.text.encode('utf8') == b'With Helmet':\n",
    "            classes.append('0')\n",
    "        else:\n",
    "            classes.append('1')\n",
    "    xmin,ymin,xmax,ymax = [],[],[],[]\n",
    "    for item in root.findall('./object/bndbox/xmin'):\n",
    "        xmin.append(int(item.text.encode('utf8')))\n",
    "    for item in root.findall('./object/bndbox/xmax'):\n",
    "        xmax.append(int(item.text.encode('utf8')))\n",
    "    for item in root.findall('./object/bndbox/ymin'):\n",
    "        ymin.append(int(item.text.encode('utf8')))\n",
    "    for item in root.findall('./object/bndbox/ymax'):\n",
    "        ymax.append(int(item.text.encode('utf8')))\n",
    "    \n",
    "    with open(f'yolov7/helmet_dataset/labels/{f[:-4]}.txt','w') as f1:\n",
    "        for i in range(len(classes)):\n",
    "            f1.write(f'{classes[i]} {np.round((xmax[i]+xmin[i])/(2*w),3)} {np.round((ymax[i]+ymin[i])/(2*h),3)} {np.round((xmax[i]-xmin[i])/w,3)} {np.round((ymax[i]-ymin[i])/h,3)}\\n')\n",
    "    "
   ]
  },
  {
   "cell_type": "code",
   "execution_count": 5,
   "id": "6a1fdae7",
   "metadata": {},
   "outputs": [
    {
     "data": {
      "text/plain": [
       "(['0'], 280, 468, 'BikesHelmets368.xml')"
      ]
     },
     "execution_count": 5,
     "metadata": {},
     "output_type": "execute_result"
    }
   ],
   "source": [
    "classes, h,w, f"
   ]
  },
  {
   "cell_type": "code",
   "execution_count": 9,
   "id": "06a49ba9",
   "metadata": {},
   "outputs": [
    {
     "data": {
      "text/plain": [
       "'0.2354'"
      ]
     },
     "execution_count": 9,
     "metadata": {},
     "output_type": "execute_result"
    }
   ],
   "source": [
    "str(np.round(0.2354,6))"
   ]
  },
  {
   "cell_type": "code",
   "execution_count": 11,
   "id": "066317c8",
   "metadata": {},
   "outputs": [
    {
     "name": "stdout",
     "output_type": "stream",
     "text": [
      "468\n",
      "b'232'\n"
     ]
    }
   ],
   "source": [
    "for item in root.findall('./size/width'):\n",
    "    w = int(item.text.encode('utf8'))\n",
    "    print(w)\n",
    "for item in root.findall('./object/bndbox/xmin'):\n",
    "    print(item.text.encode('utf8'))"
   ]
  },
  {
   "cell_type": "code",
   "execution_count": 18,
   "id": "1f2fa0f8",
   "metadata": {},
   "outputs": [
    {
     "data": {
      "text/plain": [
       "17"
      ]
     },
     "execution_count": 18,
     "metadata": {},
     "output_type": "execute_result"
    }
   ],
   "source": [
    "val"
   ]
  },
  {
   "cell_type": "code",
   "execution_count": null,
   "id": "91a3e16a",
   "metadata": {},
   "outputs": [],
   "source": []
  },
  {
   "cell_type": "code",
   "execution_count": null,
   "id": "aa72c0dd",
   "metadata": {},
   "outputs": [],
   "source": []
  },
  {
   "cell_type": "code",
   "execution_count": 7,
   "id": "c1e46b42",
   "metadata": {},
   "outputs": [],
   "source": [
    "import json\n",
    "import shutil\n",
    "f = open(path+'ndead_obj_bbox_annotations.json')\n",
    "data = json.load(f)"
   ]
  },
  {
   "cell_type": "code",
   "execution_count": 8,
   "id": "d9f9545b",
   "metadata": {},
   "outputs": [
    {
     "data": {
      "text/plain": [
       "'Dead/UV Treatment/L929/20X L929 UV_19.tif'"
      ]
     },
     "execution_count": 8,
     "metadata": {},
     "output_type": "execute_result"
    }
   ],
   "source": [
    "ind = list(data.keys())[0].index('Dead')\n",
    "list(data.keys())[0][ind:]"
   ]
  },
  {
   "cell_type": "code",
   "execution_count": 9,
   "id": "6f727636",
   "metadata": {},
   "outputs": [],
   "source": [
    "destination = 'yolov7/annotated_data/train/'\n",
    "for i in range(len(data)):\n",
    "    ind = list(data.keys())[i].index('Dead')\n",
    "    src = list(data.keys())[i][ind:]\n",
    "    shutil.move(src,destination)"
   ]
  },
  {
   "cell_type": "code",
   "execution_count": null,
   "id": "c7adee11",
   "metadata": {},
   "outputs": [],
   "source": []
  }
 ],
 "metadata": {
  "kernelspec": {
   "display_name": "Python 3 (ipykernel)",
   "language": "python",
   "name": "python3"
  },
  "language_info": {
   "codemirror_mode": {
    "name": "ipython",
    "version": 3
   },
   "file_extension": ".py",
   "mimetype": "text/x-python",
   "name": "python",
   "nbconvert_exporter": "python",
   "pygments_lexer": "ipython3",
   "version": "3.7.3"
  }
 },
 "nbformat": 4,
 "nbformat_minor": 5
}
