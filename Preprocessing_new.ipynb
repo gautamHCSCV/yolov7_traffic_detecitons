{
 "cells": [
  {
   "cell_type": "code",
   "execution_count": 6,
   "metadata": {
    "id": "vOyefKBYR5MK"
   },
   "outputs": [],
   "source": [
    "import torch\n",
    "import torchvision\n",
    "import torch.nn as nn\n",
    "import torch.nn.functional as F\n",
    "from torchvision import transforms\n",
    "import matplotlib.pyplot as plt\n",
    "import numpy as np\n",
    "from collections import defaultdict\n",
    "import os\n",
    "import cv2\n",
    "import copy\n",
    "from PIL import Image, ImageDraw\n",
    "from PIL import Image, ImageDraw\n",
    "import xml.etree.ElementTree as ET\n",
    "%matplotlib inline\n",
    "import warnings\n",
    "warnings.filterwarnings('ignore')"
   ]
  },
  {
   "cell_type": "code",
   "execution_count": 13,
   "metadata": {},
   "outputs": [
    {
     "data": {
      "text/plain": [
       "4750"
      ]
     },
     "execution_count": 13,
     "metadata": {},
     "output_type": "execute_result"
    }
   ],
   "source": [
    "path = 'train/annotation/'\n",
    "len(os.listdir(path))"
   ]
  },
  {
   "cell_type": "code",
   "execution_count": 20,
   "metadata": {},
   "outputs": [],
   "source": [
    "for f in os.listdir(path):\n",
    "    tree = ET.parse(path+f'{f}')\n",
    "    root = tree.getroot()\n",
    "    \n",
    "    for item in root.findall('./size/width'):\n",
    "        w = int(item.text.encode('utf8'))\n",
    "    for item in root.findall('./size/height'):\n",
    "        h = int(item.text.encode('utf8'))\n",
    "    \n",
    "    classes = []\n",
    "    for item in root.findall('./object/name'):\n",
    "        if item.text.encode('utf8') == b'helmet':\n",
    "            classes.append('0')\n",
    "        elif item.text.encode('utf8') == b'head':\n",
    "            classes.append('1')\n",
    "        else:\n",
    "            classes.append('2')\n",
    "    xmin,ymin,xmax,ymax = [],[],[],[]\n",
    "    for item in root.findall('./object/bndbox/xmin'):\n",
    "        xmin.append(int(item.text.encode('utf8')))\n",
    "    for item in root.findall('./object/bndbox/xmax'):\n",
    "        xmax.append(int(item.text.encode('utf8')))\n",
    "    for item in root.findall('./object/bndbox/ymin'):\n",
    "        ymin.append(int(item.text.encode('utf8')))\n",
    "    for item in root.findall('./object/bndbox/ymax'):\n",
    "        ymax.append(int(item.text.encode('utf8')))\n",
    "    \n",
    "    with open(f'train/labels/{f[:-4]}.txt','w') as f1:\n",
    "        for i in range(len(classes)):\n",
    "            f1.write(f'{classes[i]} {np.round((xmax[i]+xmin[i])/(2*w),3)} {np.round((ymax[i]+ymin[i])/(2*h),3)} {np.round((xmax[i]-xmin[i])/w,3)} {np.round((ymax[i]-ymin[i])/h,3)}\\n')\n",
    "    "
   ]
  },
  {
   "cell_type": "code",
   "execution_count": 19,
   "metadata": {},
   "outputs": [
    {
     "name": "stdout",
     "output_type": "stream",
     "text": [
      "b'helmet'\n",
      "b'head'\n",
      "b'person'\n"
     ]
    }
   ],
   "source": [
    "named = []\n",
    "for f in os.listdir(path):\n",
    "    tree = ET.parse(path+f'{f}')\n",
    "    root = tree.getroot()\n",
    "    for item in root.findall('./object/name'):\n",
    "        ele = item.text.encode('utf8')\n",
    "        if ele not in named:\n",
    "            print(item.text.encode('utf8'))\n",
    "            named.append(ele)"
   ]
  },
  {
   "cell_type": "code",
   "execution_count": null,
   "metadata": {},
   "outputs": [],
   "source": []
  }
 ],
 "metadata": {
  "accelerator": "GPU",
  "colab": {
   "collapsed_sections": [],
   "name": "Object Localizatio.ipynb",
   "provenance": []
  },
  "kernelspec": {
   "display_name": "Python 3 (ipykernel)",
   "language": "python",
   "name": "python3"
  },
  "language_info": {
   "codemirror_mode": {
    "name": "ipython",
    "version": 3
   },
   "file_extension": ".py",
   "mimetype": "text/x-python",
   "name": "python",
   "nbconvert_exporter": "python",
   "pygments_lexer": "ipython3",
   "version": "3.7.3"
  }
 },
 "nbformat": 4,
 "nbformat_minor": 1
}
